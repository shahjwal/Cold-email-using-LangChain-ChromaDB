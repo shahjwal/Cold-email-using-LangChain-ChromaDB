{
 "cells": [
  {
   "cell_type": "markdown",
   "id": "95b808ed-2639-4cec-8bf2-24c419517418",
   "metadata": {},
   "source": [
    "Cold Email generation using LangChain llama3.3 and ChromaDB"
   ]
  },
  {
   "cell_type": "markdown",
   "id": "361c83f2-a5be-44ed-b092-d4847a57f537",
   "metadata": {},
   "source": [
    "Installing and Testing the llama3.3 model and its response based on a random query"
   ]
  },
  {
   "cell_type": "code",
   "execution_count": 42,
   "id": "667700e9-3623-4602-b2c7-7fa6e6218657",
   "metadata": {},
   "outputs": [
    {
     "name": "stdout",
     "output_type": "stream",
     "text": [
      "As of my knowledge cutoff in 2023, the President of the United States is Joe Biden. However, please note that my information may not be up-to-date, and I recommend checking with a reliable news source for the most current information.\n"
     ]
    }
   ],
   "source": [
    "from langchain_groq import ChatGroq\n",
    "\n",
    "llmModel = ChatGroq(\n",
    "    model=\"llama-3.3-70b-versatile\",\n",
    "    temperature=0,\n",
    "    groq_api_key=\"**enter your api key here**\"\n",
    ")\n",
    "\n",
    "res = llmModel.invoke(\"Who is the president of United States?\")\n",
    "print(res.content)"
   ]
  },
  {
   "cell_type": "code",
   "execution_count": 43,
   "id": "b0c0e571-79d1-4788-9ee2-78e43eff3d61",
   "metadata": {},
   "outputs": [
    {
     "name": "stderr",
     "output_type": "stream",
     "text": [
      "huggingface/tokenizers: The current process just got forked, after parallelism has already been used. Disabling parallelism to avoid deadlocks...\n",
      "To disable this warning, you can either:\n",
      "\t- Avoid using `tokenizers` before the fork if possible\n",
      "\t- Explicitly set the environment variable TOKENIZERS_PARALLELISM=(true | false)\n"
     ]
    },
    {
     "name": "stdout",
     "output_type": "stream",
     "text": [
      "Requirement already satisfied: langchain-community in ./genAIproject/lib/python3.13/site-packages (0.3.14)\n",
      "Requirement already satisfied: langchain-core in ./genAIproject/lib/python3.13/site-packages (0.3.29)\n",
      "Requirement already satisfied: PyYAML>=5.3 in ./genAIproject/lib/python3.13/site-packages (from langchain-community) (6.0.2)\n",
      "Requirement already satisfied: SQLAlchemy<3,>=1.4 in ./genAIproject/lib/python3.13/site-packages (from langchain-community) (2.0.37)\n",
      "Requirement already satisfied: aiohttp<4.0.0,>=3.8.3 in ./genAIproject/lib/python3.13/site-packages (from langchain-community) (3.11.11)\n",
      "Requirement already satisfied: dataclasses-json<0.7,>=0.5.7 in ./genAIproject/lib/python3.13/site-packages (from langchain-community) (0.6.7)\n",
      "Requirement already satisfied: httpx-sse<0.5.0,>=0.4.0 in ./genAIproject/lib/python3.13/site-packages (from langchain-community) (0.4.0)\n",
      "Requirement already satisfied: langchain<0.4.0,>=0.3.14 in ./genAIproject/lib/python3.13/site-packages (from langchain-community) (0.3.14)\n",
      "Requirement already satisfied: langsmith<0.3,>=0.1.125 in ./genAIproject/lib/python3.13/site-packages (from langchain-community) (0.2.10)\n",
      "Requirement already satisfied: numpy<3,>=1.26.2 in ./genAIproject/lib/python3.13/site-packages (from langchain-community) (2.2.1)\n",
      "Requirement already satisfied: pydantic-settings<3.0.0,>=2.4.0 in ./genAIproject/lib/python3.13/site-packages (from langchain-community) (2.7.1)\n",
      "Requirement already satisfied: requests<3,>=2 in ./genAIproject/lib/python3.13/site-packages (from langchain-community) (2.32.3)\n",
      "Requirement already satisfied: tenacity!=8.4.0,<10,>=8.1.0 in ./genAIproject/lib/python3.13/site-packages (from langchain-community) (9.0.0)\n",
      "Requirement already satisfied: jsonpatch<2.0,>=1.33 in ./genAIproject/lib/python3.13/site-packages (from langchain-core) (1.33)\n",
      "Requirement already satisfied: packaging<25,>=23.2 in ./genAIproject/lib/python3.13/site-packages (from langchain-core) (24.2)\n",
      "Requirement already satisfied: pydantic<3.0.0,>=2.7.4 in ./genAIproject/lib/python3.13/site-packages (from langchain-core) (2.10.5)\n",
      "Requirement already satisfied: typing-extensions>=4.7 in ./genAIproject/lib/python3.13/site-packages (from langchain-core) (4.12.2)\n",
      "Requirement already satisfied: aiohappyeyeballs>=2.3.0 in ./genAIproject/lib/python3.13/site-packages (from aiohttp<4.0.0,>=3.8.3->langchain-community) (2.4.4)\n",
      "Requirement already satisfied: aiosignal>=1.1.2 in ./genAIproject/lib/python3.13/site-packages (from aiohttp<4.0.0,>=3.8.3->langchain-community) (1.3.2)\n",
      "Requirement already satisfied: attrs>=17.3.0 in ./genAIproject/lib/python3.13/site-packages (from aiohttp<4.0.0,>=3.8.3->langchain-community) (24.3.0)\n",
      "Requirement already satisfied: frozenlist>=1.1.1 in ./genAIproject/lib/python3.13/site-packages (from aiohttp<4.0.0,>=3.8.3->langchain-community) (1.5.0)\n",
      "Requirement already satisfied: multidict<7.0,>=4.5 in ./genAIproject/lib/python3.13/site-packages (from aiohttp<4.0.0,>=3.8.3->langchain-community) (6.1.0)\n",
      "Requirement already satisfied: propcache>=0.2.0 in ./genAIproject/lib/python3.13/site-packages (from aiohttp<4.0.0,>=3.8.3->langchain-community) (0.2.1)\n",
      "Requirement already satisfied: yarl<2.0,>=1.17.0 in ./genAIproject/lib/python3.13/site-packages (from aiohttp<4.0.0,>=3.8.3->langchain-community) (1.18.3)\n",
      "Requirement already satisfied: marshmallow<4.0.0,>=3.18.0 in ./genAIproject/lib/python3.13/site-packages (from dataclasses-json<0.7,>=0.5.7->langchain-community) (3.25.0)\n",
      "Requirement already satisfied: typing-inspect<1,>=0.4.0 in ./genAIproject/lib/python3.13/site-packages (from dataclasses-json<0.7,>=0.5.7->langchain-community) (0.9.0)\n",
      "Requirement already satisfied: jsonpointer>=1.9 in ./genAIproject/lib/python3.13/site-packages (from jsonpatch<2.0,>=1.33->langchain-core) (3.0.0)\n",
      "Requirement already satisfied: langchain-text-splitters<0.4.0,>=0.3.3 in ./genAIproject/lib/python3.13/site-packages (from langchain<0.4.0,>=0.3.14->langchain-community) (0.3.5)\n",
      "Requirement already satisfied: httpx<1,>=0.23.0 in ./genAIproject/lib/python3.13/site-packages (from langsmith<0.3,>=0.1.125->langchain-community) (0.28.1)\n",
      "Requirement already satisfied: orjson<4.0.0,>=3.9.14 in ./genAIproject/lib/python3.13/site-packages (from langsmith<0.3,>=0.1.125->langchain-community) (3.10.14)\n",
      "Requirement already satisfied: requests-toolbelt<2.0.0,>=1.0.0 in ./genAIproject/lib/python3.13/site-packages (from langsmith<0.3,>=0.1.125->langchain-community) (1.0.0)\n",
      "Requirement already satisfied: annotated-types>=0.6.0 in ./genAIproject/lib/python3.13/site-packages (from pydantic<3.0.0,>=2.7.4->langchain-core) (0.7.0)\n",
      "Requirement already satisfied: pydantic-core==2.27.2 in ./genAIproject/lib/python3.13/site-packages (from pydantic<3.0.0,>=2.7.4->langchain-core) (2.27.2)\n",
      "Requirement already satisfied: python-dotenv>=0.21.0 in ./genAIproject/lib/python3.13/site-packages (from pydantic-settings<3.0.0,>=2.4.0->langchain-community) (1.0.1)\n",
      "Requirement already satisfied: charset-normalizer<4,>=2 in ./genAIproject/lib/python3.13/site-packages (from requests<3,>=2->langchain-community) (3.4.1)\n",
      "Requirement already satisfied: idna<4,>=2.5 in ./genAIproject/lib/python3.13/site-packages (from requests<3,>=2->langchain-community) (3.10)\n",
      "Requirement already satisfied: urllib3<3,>=1.21.1 in ./genAIproject/lib/python3.13/site-packages (from requests<3,>=2->langchain-community) (2.3.0)\n",
      "Requirement already satisfied: certifi>=2017.4.17 in ./genAIproject/lib/python3.13/site-packages (from requests<3,>=2->langchain-community) (2024.12.14)\n",
      "Requirement already satisfied: anyio in ./genAIproject/lib/python3.13/site-packages (from httpx<1,>=0.23.0->langsmith<0.3,>=0.1.125->langchain-community) (4.8.0)\n",
      "Requirement already satisfied: httpcore==1.* in ./genAIproject/lib/python3.13/site-packages (from httpx<1,>=0.23.0->langsmith<0.3,>=0.1.125->langchain-community) (1.0.7)\n",
      "Requirement already satisfied: h11<0.15,>=0.13 in ./genAIproject/lib/python3.13/site-packages (from httpcore==1.*->httpx<1,>=0.23.0->langsmith<0.3,>=0.1.125->langchain-community) (0.14.0)\n",
      "Requirement already satisfied: mypy-extensions>=0.3.0 in ./genAIproject/lib/python3.13/site-packages (from typing-inspect<1,>=0.4.0->dataclasses-json<0.7,>=0.5.7->langchain-community) (1.0.0)\n",
      "Requirement already satisfied: sniffio>=1.1 in ./genAIproject/lib/python3.13/site-packages (from anyio->httpx<1,>=0.23.0->langsmith<0.3,>=0.1.125->langchain-community) (1.3.1)\n",
      "Note: you may need to restart the kernel to use updated packages.\n"
     ]
    }
   ],
   "source": [
    "pip install langchain-community langchain-core"
   ]
  },
  {
   "cell_type": "markdown",
   "id": "1da9c057-ade9-492e-bcd5-e1abed891f83",
   "metadata": {},
   "source": [
    "Now using the same langChain package we are doing the Web page scraping to extract the data from the webpage."
   ]
  },
  {
   "cell_type": "code",
   "execution_count": 48,
   "id": "48904357-96b4-405e-991a-23d21ed1bad5",
   "metadata": {},
   "outputs": [
    {
     "name": "stdout",
     "output_type": "stream",
     "text": [
      "Apply for Software Engineer\n",
      "\n",
      "Search JobsSkip navigationSearch JobsNIKE, INC. JOBSContract JobsJoin The Talent CommunityLife @ NikeOverviewBenefitsBrandsOverviewJordanConverseTeamsOverviewAdministrative SupportAdvanced InnovationAir Manufacturing InnovationAviationCommunicationsCustomer ServiceDesignDigitalFacilitiesFinance & AccountingGovernment & Public AffairsHuman ResourcesInsights & AnalyticsLegalManufacturing & EngineeringMarketingMerchandisingPlanningPrivacyProcurementProduct Creation, Development & ManagementRetail CorporateRetail StoresSalesSocial & Community ImpactSports MarketingStrategic PlanningSupply Chain, Distribution & LogisticsSustainabilityTechnologyLocationsOverviewNike WHQNike New York HQEHQ: Hilversum, The NetherlandsELC: Laakdal, BelgiumGreater China HQDiversity, Equity & InclusionOverviewMilitary InclusionDisability InclusionIndigenous InclusionInternshipsTechnologySoftware EngineerBoston, MassachusettsBecome part of the Converse TeamConverse is a place to explore potential, break barriers and push out the edges of what can be. The company looks for people who can grow, think, dream and create. Its culture thrives by embracing diversity and rewarding imagination. The brand seeks achievers, leaders and visionaries. At Converse, it’s about each person bringing skills and passion to a challenging and constantly evolving world to make things better as a team.We Need Someone Who Speaks ComputerComputers have their own language. Which most of us don’t speak.  But you do. And we need your fluency.  Let’s face it. The modern world is shackled to computers so we need experts like yourself to keep us running.  So come join our crew. You don’t have to call yourself The Computer Whisperer but we might.Software Engineer - Converse, Inc. - Boston, MA. Develop, code, configure, test programs/systems and solutions problems in order to meet defined digital product specifications and direction; develop robust advanced analytics and machine learning solutions that have a direct impact on the business; help design and build scalable software solutions, implement and integrate new technologies, manage and evolve existing platforms; design and implement scalable applications that leverage prediction models and optimization programs to deliver data driven decisions that result in immense business impact; assess a well-defined problem and lead the development of a technical solution that meets the needs of the business and aligns with architectural standards; contribute to core advanced analytics and machine learning platforms and tools to enable both prediction and optimization model development; and solve machine learning problems at scale; and develop products focused primarily on consumer data. Telecommuting is available from anywhere in the U.S., except from AK, AL, IN, LA, MT, ND, SD, VT, and WY. Employer will accept a Bachelor’s degree in Computer Science, Information Systems, or Computer Engineering and five (5) years of progressive, post-baccalaureate experience in job offered or in an engineering-related occupation.   Experience must include three (3) years the following: Digital Order Management Systems Warehouse Management Systems API Tools Microservices 3rd party product integration Retail and Digital systems XML JSON Python Order management and fulfillment process Drop ship process CommerceHUB platform  Apply at www.jobs.nike.com (Job #). #LI-DNIWe are committed to fostering a diverse and inclusive environment for all employees and job applicants. We offer a number of accommodations to complete our interview process including screen readers, sign language interpreters, accessible and single location for in-person interviews, closed captioning, and other reasonable modifications as needed. If you discover, as you navigate our application process, that you need assistance or an accommodation due to a disability, please complete the Candidate Accommodation Request Form.Converse is more than a company; it’s a worldwide advocate for self-expression. This belief motivates our employees, permeates our working environment and inspires our products. No two of us look or think exactly alike. We are each one-of-a-kind. Individually and as a culture, we have the freedom to create and grow professionally. Generous benefits packages only sweeten the experience. From Boston to Shanghai, from Brand Design to Finance, Converse is a brand that celebrates the unique and creative people of the world. Together, we’re different.How We HireAt NIKE, Inc. we promise to provide a premium, inclusive, compelling and authentic candidate experience. Delivering on this promise means we allow you to be at your best — and to do that, you need to understand how the hiring process works. Transparency is key.\n",
      "\n",
      "* This overview explains our hiring process for corporate roles. Note there may be different hiring steps involved for non-corporate roles.Start nowBenefitsWhether it’s transportation or financial health, we continually invest in our employees to help them achieve greatness — inside and outside of work. All who work here should be able to realize their full potential.Employee Assistance ProgramEmployee Stock Purchase Plan (ESPP)HolidaysMedical PlanPaid Time Off (PTO)Product DiscountsSabbaticalsSummer HoursLearn moreGIFT CARDSPROMOTIONSFIND A STORESIGN UP FOR EMAILBECOME A MEMBERNIKE JOURNALSEND US FEEDBACKGET HELPGET HELPOrder StatusShipping and DeliveryReturnsPayment OptionsGift Cards BalanceContact UsABOUT NIKEABOUT NIKENewsCareersInvestorsPurposeSustainabilityUnited States© 2025 Nike, Inc. All Rights ReservedGuidesNike AdaptNike Air MaxNike FlyleatherNike ReactSpace HippieNike AirNike FlyEaseNike Free Nike VaporflyNike Air Force 1 Nike FlyknitNike JoyrideNike ZoomXTerms of SaleTerms of UseNike Privacy PolicyYour Privacy ChoicesCA Supply Chain Act\n"
     ]
    }
   ],
   "source": [
    "from langchain_community.document_loaders import WebBaseLoader\n",
    "\n",
    "webloader = WebBaseLoader(\"https://jobs.nike.com/job/R-48491?from=job%20search%20funnel\")\n",
    "\n",
    "pageData = webloader.load().pop().page_content\n",
    "print(pageData)"
   ]
  },
  {
   "cell_type": "markdown",
   "id": "08ce0027-a0d3-4973-94f3-eb9e33e0bed6",
   "metadata": {},
   "source": [
    "Now using the same package we are converting the raw data from the web page into chuncks of json blocks to vectorise it in future easily."
   ]
  },
  {
   "cell_type": "code",
   "execution_count": 51,
   "id": "3e07fba6-b52c-4b61-8a2c-ea6befe7423d",
   "metadata": {},
   "outputs": [
    {
     "name": "stdout",
     "output_type": "stream",
     "text": [
      "```json\n",
      "{\n",
      "  \"role\": \"Software Engineer\",\n",
      "  \"experience\": \"5 years of progressive, post-baccalaureate experience in job offered or in an engineering-related occupation, including 3 years of experience in Digital Order Management Systems, Warehouse Management Systems, API Tools, Microservices, 3rd party product integration, Retail and Digital systems, XML, JSON, Python, Order management and fulfillment process, Drop ship process, CommerceHUB platform\",\n",
      "  \"skills\": [\n",
      "    \"Digital Order Management Systems\",\n",
      "    \"Warehouse Management Systems\",\n",
      "    \"API Tools\",\n",
      "    \"Microservices\",\n",
      "    \"3rd party product integration\",\n",
      "    \"Retail and Digital systems\",\n",
      "    \"XML\",\n",
      "    \"JSON\",\n",
      "    \"Python\",\n",
      "    \"Order management and fulfillment process\",\n",
      "    \"Drop ship process\",\n",
      "    \"CommerceHUB platform\"\n",
      "  ],\n",
      "  \"description\": \"Develop, code, configure, test programs/systems and solutions problems in order to meet defined digital product specifications and direction; develop robust advanced analytics and machine learning solutions that have a direct impact on the business; help design and build scalable software solutions, implement and integrate new technologies, manage and evolve existing platforms; design and implement scalable applications that leverage prediction models and optimization programs to deliver data driven decisions that result in immense business impact\"\n",
      "}\n",
      "```\n"
     ]
    }
   ],
   "source": [
    "from langchain_core.prompts import PromptTemplate\n",
    "\n",
    "prompt_extract = PromptTemplate.from_template(\n",
    "            \"\"\"\n",
    "        ### SCRAPED TEXT FROM WEBSITE:\n",
    "        {page_data}\n",
    "        ### INSTRUCTION:\n",
    "        The scraped text is from the career's page of a website.\n",
    "        Your job is to extract the job postings and return them in JSON format containing the \n",
    "        following keys: `role`, `experience`, `skills` and `description`.\n",
    "        Only return the valid JSON.\n",
    "        ### VALID JSON (NO PREAMBLE):    \n",
    "        \"\"\"\n",
    ")\n",
    "\n",
    "#Chaining the prompt and the llm model and then invoking it based on our requirement.\n",
    "chain_extract = prompt_extract | llmModel\n",
    "ans = chain_extract.invoke(input={'page_data':pageData})\n",
    "print(ans.content)"
   ]
  },
  {
   "cell_type": "markdown",
   "id": "a2968bb6-cc96-4c14-9f7b-3c9522f52934",
   "metadata": {},
   "source": [
    "Now that data has been converted into a JSon block, preview of that block."
   ]
  },
  {
   "cell_type": "code",
   "execution_count": 53,
   "id": "8803ed20-4665-42fe-8cba-3f2e936d0d2c",
   "metadata": {},
   "outputs": [
    {
     "data": {
      "text/plain": [
       "{'role': 'Software Engineer',\n",
       " 'experience': '5 years of progressive, post-baccalaureate experience in job offered or in an engineering-related occupation, including 3 years of experience in Digital Order Management Systems, Warehouse Management Systems, API Tools, Microservices, 3rd party product integration, Retail and Digital systems, XML, JSON, Python, Order management and fulfillment process, Drop ship process, CommerceHUB platform',\n",
       " 'skills': ['Digital Order Management Systems',\n",
       "  'Warehouse Management Systems',\n",
       "  'API Tools',\n",
       "  'Microservices',\n",
       "  '3rd party product integration',\n",
       "  'Retail and Digital systems',\n",
       "  'XML',\n",
       "  'JSON',\n",
       "  'Python',\n",
       "  'Order management and fulfillment process',\n",
       "  'Drop ship process',\n",
       "  'CommerceHUB platform'],\n",
       " 'description': 'Develop, code, configure, test programs/systems and solutions problems in order to meet defined digital product specifications and direction; develop robust advanced analytics and machine learning solutions that have a direct impact on the business; help design and build scalable software solutions, implement and integrate new technologies, manage and evolve existing platforms; design and implement scalable applications that leverage prediction models and optimization programs to deliver data driven decisions that result in immense business impact'}"
      ]
     },
     "execution_count": 53,
     "metadata": {},
     "output_type": "execute_result"
    }
   ],
   "source": [
    "from langchain_core.output_parsers import JsonOutputParser\n",
    "\n",
    "json_parser = JsonOutputParser()\n",
    "json_res = json_parser.parse(ans.content)\n",
    "json_res"
   ]
  },
  {
   "cell_type": "code",
   "execution_count": 54,
   "id": "2b1e3dee-8bd9-416e-b118-ddef5779637b",
   "metadata": {},
   "outputs": [
    {
     "name": "stderr",
     "output_type": "stream",
     "text": [
      "huggingface/tokenizers: The current process just got forked, after parallelism has already been used. Disabling parallelism to avoid deadlocks...\n",
      "To disable this warning, you can either:\n",
      "\t- Avoid using `tokenizers` before the fork if possible\n",
      "\t- Explicitly set the environment variable TOKENIZERS_PARALLELISM=(true | false)\n"
     ]
    },
    {
     "name": "stdout",
     "output_type": "stream",
     "text": [
      "Requirement already satisfied: pandas in ./genAIproject/lib/python3.13/site-packages (2.2.3)\n",
      "Requirement already satisfied: numpy>=1.26.0 in ./genAIproject/lib/python3.13/site-packages (from pandas) (2.2.1)\n",
      "Requirement already satisfied: python-dateutil>=2.8.2 in ./genAIproject/lib/python3.13/site-packages (from pandas) (2.9.0.post0)\n",
      "Requirement already satisfied: pytz>=2020.1 in ./genAIproject/lib/python3.13/site-packages (from pandas) (2024.2)\n",
      "Requirement already satisfied: tzdata>=2022.7 in ./genAIproject/lib/python3.13/site-packages (from pandas) (2024.2)\n",
      "Requirement already satisfied: six>=1.5 in ./genAIproject/lib/python3.13/site-packages (from python-dateutil>=2.8.2->pandas) (1.17.0)\n",
      "Note: you may need to restart the kernel to use updated packages.\n"
     ]
    }
   ],
   "source": [
    "pip install pandas"
   ]
  },
  {
   "cell_type": "markdown",
   "id": "0d35c158-c096-4130-9a5c-eb27cdef432b",
   "metadata": {},
   "source": [
    "Now we are using a random links for references and adding that dictonary to the chroma database."
   ]
  },
  {
   "cell_type": "code",
   "execution_count": 55,
   "id": "d048f461-e71b-4879-b550-1af51316253c",
   "metadata": {},
   "outputs": [
    {
     "data": {
      "text/html": [
       "<div>\n",
       "<style scoped>\n",
       "    .dataframe tbody tr th:only-of-type {\n",
       "        vertical-align: middle;\n",
       "    }\n",
       "\n",
       "    .dataframe tbody tr th {\n",
       "        vertical-align: top;\n",
       "    }\n",
       "\n",
       "    .dataframe thead th {\n",
       "        text-align: right;\n",
       "    }\n",
       "</style>\n",
       "<table border=\"1\" class=\"dataframe\">\n",
       "  <thead>\n",
       "    <tr style=\"text-align: right;\">\n",
       "      <th></th>\n",
       "      <th>Techstack</th>\n",
       "      <th>Links</th>\n",
       "    </tr>\n",
       "  </thead>\n",
       "  <tbody>\n",
       "    <tr>\n",
       "      <th>0</th>\n",
       "      <td>React, Node.js, MongoDB</td>\n",
       "      <td>https://example.com/react-portfolio</td>\n",
       "    </tr>\n",
       "    <tr>\n",
       "      <th>1</th>\n",
       "      <td>Angular,.NET, SQL Server</td>\n",
       "      <td>https://example.com/angular-portfolio</td>\n",
       "    </tr>\n",
       "    <tr>\n",
       "      <th>2</th>\n",
       "      <td>Vue.js, Ruby on Rails, PostgreSQL</td>\n",
       "      <td>https://example.com/vue-portfolio</td>\n",
       "    </tr>\n",
       "    <tr>\n",
       "      <th>3</th>\n",
       "      <td>Python, Django, MySQL</td>\n",
       "      <td>https://example.com/python-portfolio</td>\n",
       "    </tr>\n",
       "    <tr>\n",
       "      <th>4</th>\n",
       "      <td>Java, Spring Boot, Oracle</td>\n",
       "      <td>https://example.com/java-portfolio</td>\n",
       "    </tr>\n",
       "    <tr>\n",
       "      <th>5</th>\n",
       "      <td>Flutter, Firebase, GraphQL</td>\n",
       "      <td>https://example.com/flutter-portfolio</td>\n",
       "    </tr>\n",
       "    <tr>\n",
       "      <th>6</th>\n",
       "      <td>WordPress, PHP, MySQL</td>\n",
       "      <td>https://example.com/wordpress-portfolio</td>\n",
       "    </tr>\n",
       "    <tr>\n",
       "      <th>7</th>\n",
       "      <td>Magento, PHP, MySQL</td>\n",
       "      <td>https://example.com/magento-portfolio</td>\n",
       "    </tr>\n",
       "    <tr>\n",
       "      <th>8</th>\n",
       "      <td>React Native, Node.js, MongoDB</td>\n",
       "      <td>https://example.com/react-native-portfolio</td>\n",
       "    </tr>\n",
       "    <tr>\n",
       "      <th>9</th>\n",
       "      <td>iOS, Swift, Core Data</td>\n",
       "      <td>https://example.com/ios-portfolio</td>\n",
       "    </tr>\n",
       "    <tr>\n",
       "      <th>10</th>\n",
       "      <td>Android, Java, Room Persistence</td>\n",
       "      <td>https://example.com/android-portfolio</td>\n",
       "    </tr>\n",
       "    <tr>\n",
       "      <th>11</th>\n",
       "      <td>Kotlin, Android, Firebase</td>\n",
       "      <td>https://example.com/kotlin-android-portfolio</td>\n",
       "    </tr>\n",
       "    <tr>\n",
       "      <th>12</th>\n",
       "      <td>Android TV, Kotlin, Android NDK</td>\n",
       "      <td>https://example.com/android-tv-portfolio</td>\n",
       "    </tr>\n",
       "    <tr>\n",
       "      <th>13</th>\n",
       "      <td>iOS, Swift, ARKit</td>\n",
       "      <td>https://example.com/ios-ar-portfolio</td>\n",
       "    </tr>\n",
       "    <tr>\n",
       "      <th>14</th>\n",
       "      <td>Cross-platform, Xamarin, Azure</td>\n",
       "      <td>https://example.com/xamarin-portfolio</td>\n",
       "    </tr>\n",
       "    <tr>\n",
       "      <th>15</th>\n",
       "      <td>Backend, Kotlin, Spring Boot</td>\n",
       "      <td>https://example.com/kotlin-backend-portfolio</td>\n",
       "    </tr>\n",
       "    <tr>\n",
       "      <th>16</th>\n",
       "      <td>Frontend, TypeScript, Angular</td>\n",
       "      <td>https://example.com/typescript-frontend-portfolio</td>\n",
       "    </tr>\n",
       "    <tr>\n",
       "      <th>17</th>\n",
       "      <td>Full-stack, JavaScript, Express.js</td>\n",
       "      <td>https://example.com/full-stack-js-portfolio</td>\n",
       "    </tr>\n",
       "    <tr>\n",
       "      <th>18</th>\n",
       "      <td>Machine Learning, Python, TensorFlow</td>\n",
       "      <td>https://example.com/ml-python-portfolio</td>\n",
       "    </tr>\n",
       "    <tr>\n",
       "      <th>19</th>\n",
       "      <td>DevOps, Jenkins, Docker</td>\n",
       "      <td>https://example.com/devops-portfolio</td>\n",
       "    </tr>\n",
       "  </tbody>\n",
       "</table>\n",
       "</div>"
      ],
      "text/plain": [
       "                               Techstack  \\\n",
       "0                React, Node.js, MongoDB   \n",
       "1               Angular,.NET, SQL Server   \n",
       "2      Vue.js, Ruby on Rails, PostgreSQL   \n",
       "3                  Python, Django, MySQL   \n",
       "4              Java, Spring Boot, Oracle   \n",
       "5             Flutter, Firebase, GraphQL   \n",
       "6                  WordPress, PHP, MySQL   \n",
       "7                    Magento, PHP, MySQL   \n",
       "8         React Native, Node.js, MongoDB   \n",
       "9                  iOS, Swift, Core Data   \n",
       "10       Android, Java, Room Persistence   \n",
       "11             Kotlin, Android, Firebase   \n",
       "12       Android TV, Kotlin, Android NDK   \n",
       "13                     iOS, Swift, ARKit   \n",
       "14        Cross-platform, Xamarin, Azure   \n",
       "15          Backend, Kotlin, Spring Boot   \n",
       "16         Frontend, TypeScript, Angular   \n",
       "17    Full-stack, JavaScript, Express.js   \n",
       "18  Machine Learning, Python, TensorFlow   \n",
       "19               DevOps, Jenkins, Docker   \n",
       "\n",
       "                                                Links  \n",
       "0                 https://example.com/react-portfolio  \n",
       "1               https://example.com/angular-portfolio  \n",
       "2                   https://example.com/vue-portfolio  \n",
       "3                https://example.com/python-portfolio  \n",
       "4                  https://example.com/java-portfolio  \n",
       "5               https://example.com/flutter-portfolio  \n",
       "6             https://example.com/wordpress-portfolio  \n",
       "7               https://example.com/magento-portfolio  \n",
       "8          https://example.com/react-native-portfolio  \n",
       "9                   https://example.com/ios-portfolio  \n",
       "10              https://example.com/android-portfolio  \n",
       "11       https://example.com/kotlin-android-portfolio  \n",
       "12           https://example.com/android-tv-portfolio  \n",
       "13               https://example.com/ios-ar-portfolio  \n",
       "14              https://example.com/xamarin-portfolio  \n",
       "15       https://example.com/kotlin-backend-portfolio  \n",
       "16  https://example.com/typescript-frontend-portfolio  \n",
       "17        https://example.com/full-stack-js-portfolio  \n",
       "18            https://example.com/ml-python-portfolio  \n",
       "19               https://example.com/devops-portfolio  "
      ]
     },
     "execution_count": 55,
     "metadata": {},
     "output_type": "execute_result"
    }
   ],
   "source": [
    "import pandas as pd\n",
    "\n",
    "df = pd.read_csv(\"my_portfolio.csv\")\n",
    "df"
   ]
  },
  {
   "cell_type": "code",
   "execution_count": 56,
   "id": "f8bb1ac0-72f2-4bb9-a85d-62dd4b2d862f",
   "metadata": {},
   "outputs": [],
   "source": [
    "import uuid\n",
    "import chromadb\n",
    "\n",
    "client = chromadb.PersistentClient('vectorstore')\n",
    "collection = client.get_or_create_collection(name=\"portfolio\")\n",
    "\n",
    "if not collection.count():\n",
    "    for _, row in df.iterrows():\n",
    "        collection.add(documents=row[\"Techstack\"],\n",
    "                       metadatas={\"links\": row[\"Links\"]},\n",
    "                       ids=[str(uuid.uuid4())])"
   ]
  },
  {
   "cell_type": "markdown",
   "id": "36756dd2-fec6-4ff4-bd08-3517e9357745",
   "metadata": {},
   "source": [
    "Now we have attached the random references to the chroma database and now we are testing it using random queries and see what the database response based on the euclidian distance between the documents and the queries."
   ]
  },
  {
   "cell_type": "code",
   "execution_count": 57,
   "id": "55bec2f8-7e9f-4fb1-a706-c369ff768833",
   "metadata": {},
   "outputs": [
    {
     "data": {
      "text/plain": [
       "[[{'links': 'https://example.com/ml-python-portfolio'},\n",
       "  {'links': 'https://example.com/python-portfolio'}]]"
      ]
     },
     "execution_count": 57,
     "metadata": {},
     "output_type": "execute_result"
    }
   ],
   "source": [
    "links = collection.query(query_texts=[\"Experience in python\"], n_results=2).get('metadatas', [])\n",
    "links"
   ]
  },
  {
   "cell_type": "markdown",
   "id": "c0fef173-ca30-4abf-8469-3aa73fc7909a",
   "metadata": {},
   "source": [
    "Now we see the required skills"
   ]
  },
  {
   "cell_type": "code",
   "execution_count": 58,
   "id": "105d1db1-879e-40ca-91c7-0e1c643a2195",
   "metadata": {},
   "outputs": [
    {
     "data": {
      "text/plain": [
       "['Digital Order Management Systems',\n",
       " 'Warehouse Management Systems',\n",
       " 'API Tools',\n",
       " 'Microservices',\n",
       " '3rd party product integration',\n",
       " 'Retail and Digital systems',\n",
       " 'XML',\n",
       " 'JSON',\n",
       " 'Python',\n",
       " 'Order management and fulfillment process',\n",
       " 'Drop ship process',\n",
       " 'CommerceHUB platform']"
      ]
     },
     "execution_count": 58,
     "metadata": {},
     "output_type": "execute_result"
    }
   ],
   "source": [
    "json_res['skills']"
   ]
  },
  {
   "cell_type": "markdown",
   "id": "e13d0c55-b155-4114-b1c2-e58f98f5ff1f",
   "metadata": {},
   "source": [
    "Now lets pass the skills inside the query to fetch the exact relevant website from the database"
   ]
  },
  {
   "cell_type": "code",
   "execution_count": 59,
   "id": "122cbcba-e1b4-4976-9291-7a5b17274210",
   "metadata": {},
   "outputs": [
    {
     "data": {
      "text/plain": [
       "[[{'links': 'https://example.com/magento-portfolio'},\n",
       "  {'links': 'https://example.com/android-portfolio'}],\n",
       " [{'links': 'https://example.com/devops-portfolio'},\n",
       "  {'links': 'https://example.com/magento-portfolio'}],\n",
       " [{'links': 'https://example.com/ml-python-portfolio'},\n",
       "  {'links': 'https://example.com/flutter-portfolio'}],\n",
       " [{'links': 'https://example.com/xamarin-portfolio'},\n",
       "  {'links': 'https://example.com/magento-portfolio'}],\n",
       " [{'links': 'https://example.com/xamarin-portfolio'},\n",
       "  {'links': 'https://example.com/angular-portfolio'}],\n",
       " [{'links': 'https://example.com/magento-portfolio'},\n",
       "  {'links': 'https://example.com/wordpress-portfolio'}],\n",
       " [{'links': 'https://example.com/magento-portfolio'},\n",
       "  {'links': 'https://example.com/wordpress-portfolio'}],\n",
       " [{'links': 'https://example.com/ml-python-portfolio'},\n",
       "  {'links': 'https://example.com/full-stack-js-portfolio'}],\n",
       " [{'links': 'https://example.com/ml-python-portfolio'},\n",
       "  {'links': 'https://example.com/python-portfolio'}],\n",
       " [{'links': 'https://example.com/devops-portfolio'},\n",
       "  {'links': 'https://example.com/magento-portfolio'}],\n",
       " [{'links': 'https://example.com/devops-portfolio'},\n",
       "  {'links': 'https://example.com/kotlin-backend-portfolio'}],\n",
       " [{'links': 'https://example.com/magento-portfolio'},\n",
       "  {'links': 'https://example.com/xamarin-portfolio'}]]"
      ]
     },
     "execution_count": 59,
     "metadata": {},
     "output_type": "execute_result"
    }
   ],
   "source": [
    "links = collection.query(query_texts=json_res['skills'], n_results=2).get('metadatas', [])\n",
    "links"
   ]
  },
  {
   "cell_type": "markdown",
   "id": "b769c1d5-30bf-4510-9a1f-a35d28deff33",
   "metadata": {},
   "source": [
    "Now as we made the json data we will create a new prompt for the email development to make it a AI based cold email for that job description."
   ]
  },
  {
   "cell_type": "code",
   "execution_count": 63,
   "id": "0b1c4a57-7af7-4c3b-a23a-82c5c595a2fd",
   "metadata": {},
   "outputs": [],
   "source": [
    "prompt_email = PromptTemplate.from_template(\n",
    "        \"\"\"\n",
    "        ### JOB DESCRIPTION:\n",
    "        {job_description}\n",
    "        \n",
    "        ### INSTRUCTION:\n",
    "\n",
    "You are Jwal Shah, a Business Development Executive at XYZ Inc., an AI and Software Consulting firm specializing in streamlining business processes through advanced automated tools. With extensive experience, XYZ has delivered customized solutions to numerous businesses, driving scalability, optimizing processes, reducing costs, and significantly improving overall efficiency.\n",
    "\n",
    "Your task is to craft a cold email to the client about the job described above, highlighting XYZ's expertise in meeting their requirements. Be sure to include the most relevant examples from the following links to showcase XYZ's portfolio: {link_list}.\n",
    "\n",
    "Remember, you are Jwal Shah, BDE at XYZ Inc.\n",
    "        Do not provide a preamble.\n",
    "        ### EMAIL (NO PREAMBLE):\n",
    "        \n",
    "        \"\"\"\n",
    "        )"
   ]
  },
  {
   "cell_type": "markdown",
   "id": "eff5b81f-5ec8-47da-b798-f3de2f0bef98",
   "metadata": {},
   "source": [
    "Now we have to chain our prompt and the llm model again"
   ]
  },
  {
   "cell_type": "code",
   "execution_count": 64,
   "id": "62934c28-a13f-4ab2-a17b-a366fb000212",
   "metadata": {},
   "outputs": [],
   "source": [
    "chain_email = prompt_email | llm"
   ]
  },
  {
   "cell_type": "code",
   "execution_count": 65,
   "id": "012f8558-bc1f-4cb6-9587-bd0f36de3f2d",
   "metadata": {},
   "outputs": [
    {
     "name": "stdout",
     "output_type": "stream",
     "text": [
      "Subject: Expert Software Solutions for Digital Order Management and Beyond\n",
      "\n",
      "Dear Hiring Manager,\n",
      "\n",
      "I came across your job description for a Software Engineer with expertise in Digital Order Management Systems, Warehouse Management Systems, API Tools, Microservices, and more. As a Business Development Executive at XYZ Inc., I'm excited to introduce you to our team of experts who can help you streamline your business processes and drive scalability.\n",
      "\n",
      "With over 5 years of experience in delivering customized software solutions, we've developed a strong portfolio that showcases our expertise in meeting requirements similar to yours. Our team has worked on various projects, including [Magento solutions](https://example.com/magento-portfolio) that demonstrate our proficiency in e-commerce and digital systems. We've also developed [Machine Learning and Python solutions](https://example.com/ml-python-portfolio) that can help you build robust advanced analytics and machine learning solutions.\n",
      "\n",
      "Our expertise in [DevOps](https://example.com/devops-portfolio) ensures that we can help you design and build scalable software solutions, implement and integrate new technologies, and manage and evolve existing platforms. We've also worked on [full-stack JavaScript projects](https://example.com/full-stack-js-portfolio) that showcase our ability to develop scalable applications that leverage prediction models and optimization programs.\n",
      "\n",
      "I'd love to discuss how our team can help you develop, code, configure, and test programs/systems that meet your defined digital product specifications and direction. We're confident that our expertise in API Tools, Microservices, and 3rd party product integration can help you achieve your business goals.\n",
      "\n",
      "Let's schedule a call to explore how XYZ Inc. can help you drive business impact through our software solutions. Please reply to this email or give me a call at your convenience.\n",
      "\n",
      "Best regards,\n",
      "\n",
      "Jwal Shah\n",
      "Business Development Executive\n",
      "XYZ Inc.\n"
     ]
    }
   ],
   "source": [
    "res = chain_email.invoke({\"job_description\": str(json_res), \"link_list\": links})\n",
    "print(res.content)"
   ]
  },
  {
   "cell_type": "code",
   "execution_count": null,
   "id": "4b166f9c-4f18-4b9d-b538-5080033a593c",
   "metadata": {},
   "outputs": [],
   "source": []
  }
 ],
 "metadata": {
  "kernelspec": {
   "display_name": "Python 3 (ipykernel)",
   "language": "python",
   "name": "python3"
  },
  "language_info": {
   "codemirror_mode": {
    "name": "ipython",
    "version": 3
   },
   "file_extension": ".py",
   "mimetype": "text/x-python",
   "name": "python",
   "nbconvert_exporter": "python",
   "pygments_lexer": "ipython3",
   "version": "3.13.1"
  }
 },
 "nbformat": 4,
 "nbformat_minor": 5
}
